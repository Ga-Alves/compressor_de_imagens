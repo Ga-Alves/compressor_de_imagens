{
 "cells": [
  {
   "attachments": {},
   "cell_type": "markdown",
   "metadata": {},
   "source": [
    "# Import Modules"
   ]
  },
  {
   "cell_type": "code",
   "execution_count": null,
   "metadata": {},
   "outputs": [],
   "source": [
    "import cv2 as cv\n",
    "import matplotlib.pyplot as plt\n",
    "import numpy as np\n",
    "from scipy.fftpack import dct, idct\n",
    "import heapq"
   ]
  },
  {
   "attachments": {},
   "cell_type": "markdown",
   "metadata": {},
   "source": [
    "# Implementation"
   ]
  },
  {
   "attachments": {},
   "cell_type": "markdown",
   "metadata": {},
   "source": [
    "Quantization Matrix"
   ]
  },
  {
   "cell_type": "code",
   "execution_count": null,
   "metadata": {},
   "outputs": [],
   "source": [
    "quantization = np.array([\n",
    "    [16, 11, 10, 16, 24, 40, 51, 61],\n",
    "    [12, 12, 14, 19, 26, 58, 60, 55],\n",
    "    [14, 13, 16, 24, 40, 57, 69, 56],\n",
    "    [14, 17, 22, 29, 51, 87, 80, 62],\n",
    "    [18, 22, 37, 56, 68, 109, 103, 77],\n",
    "    [24, 35, 55, 64, 81, 104, 113, 92],\n",
    "    [49, 64, 78, 87, 103, 121, 120, 101],\n",
    "    [72, 92, 95, 98, 112, 100, 103, 99],\n",
    "])\n",
    "\n",
    "quantization_B = np.array([\n",
    "    [8, 6, 5, 8, 12, 20, 26, 31],\n",
    "    [6, 6, 7, 10, 13, 29, 30, 28],\n",
    "    [7, 7, 8, 12, 20, 29, 35, 28],\n",
    "    [7, 9, 11, 15, 26, 44, 40, 31],\n",
    "    [9, 11, 19, 28, 34, 55, 52, 39],\n",
    "    [12, 18, 28, 32, 41, 52, 57, 46],\n",
    "    [25, 32, 39, 44, 52, 61, 60, 51],\n",
    "    [36, 46, 48, 49, 56, 50, 52, 50],\n",
    "])\n"
   ]
  },
  {
   "attachments": {},
   "cell_type": "markdown",
   "metadata": {},
   "source": [
    "## Compress"
   ]
  },
  {
   "attachments": {},
   "cell_type": "markdown",
   "metadata": {},
   "source": [
    "### DCT"
   ]
  },
  {
   "cell_type": "code",
   "execution_count": null,
   "metadata": {},
   "outputs": [],
   "source": [
    "'''\n",
    "DCT Function\n",
    "Description:\n",
    "    Calculate the transformed of a image, breaking it in bloks of 8x8\n",
    "    Use two times the dct for 1D, each time for one axis of the image\n",
    "Input: Original image\n",
    "Output: image transformed\n",
    "Warning: Need to deal with images that are not multiple of 8\n",
    "'''\n",
    "\n",
    "def DCT(img):\n",
    "    Y = np.zeros_like(img)\n",
    "\n",
    "    nLines, nCols = img.shape\n",
    "    U = nLines//8\n",
    "    V = nCols//8\n",
    "\n",
    "    for u in range(U):\n",
    "        for v in range(V):\n",
    "            # img_blck = np.float32(imf[u*8: u*8 + 8, v*8: v*8 + 8]) # float conversion\n",
    "            img_blck = img[u*8: u*8 + 8, v*8: v*8 + 8]\n",
    "            Y[u*8: u*8 + 8, v*8: v*8 + 8] = cv.dct(img_blck)\n",
    "    \n",
    "    return Y"
   ]
  },
  {
   "attachments": {},
   "cell_type": "markdown",
   "metadata": {},
   "source": [
    "### DCT + Quantization"
   ]
  },
  {
   "cell_type": "code",
   "execution_count": null,
   "metadata": {},
   "outputs": [],
   "source": [
    "'''\n",
    "Function: quant_DCT\n",
    "Description:\n",
    "    For each block 8x8 from the image transformed\n",
    "    Is divided by the quantization matrix\n",
    "\n",
    "Input: image transformed\n",
    "Output: image tranformed divided by quantization \n",
    "'''\n",
    "\n",
    "def quant_DCT(Y):\n",
    "    Y_quant = np.zeros(Y.shape)\n",
    "    U = Y.shape[0]//8\n",
    "    V = Y.shape[1]//8\n",
    "\n",
    "    for u in range(U):\n",
    "        for v in range(V):\n",
    "            Y_quant[u*8 : u*8 + 8, v*8 : v*8 + 8] = (Y[u*8 : u*8 + 8, v*8 : v*8 + 8] / quantization_B)\n",
    "    \n",
    "    return Y_quant"
   ]
  },
  {
   "attachments": {},
   "cell_type": "markdown",
   "metadata": {},
   "source": [
    "## Decompress"
   ]
  },
  {
   "cell_type": "code",
   "execution_count": null,
   "metadata": {},
   "outputs": [],
   "source": [
    "def dequant_DCT(Y_quant):\n",
    "    U = Y_quant.shape[0]//8\n",
    "    V = Y_quant.shape[1]//8\n",
    "    Y_dequant = np.zeros(Y_quant.shape)\n",
    "    \n",
    "    for u in range(U):\n",
    "        for v in range(V):\n",
    "            Y_dequant[u*8 : u*8 + 8, v*8 : v*8 + 8] = Y_quant[u*8 : u*8 + 8, v*8 : v*8 + 8] * quantization_B\n",
    "    \n",
    "    return Y_dequant\n",
    "\n"
   ]
  },
  {
   "cell_type": "code",
   "execution_count": null,
   "metadata": {},
   "outputs": [],
   "source": [
    "def iDCT(Y):\n",
    "\n",
    "    U = Y.shape[0]//8\n",
    "    V = Y.shape[1]//8\n",
    "    img_rec = np.zeros(Y.shape)\n",
    "    for u in range(U):\n",
    "        for v in range(V):\n",
    "            img_rec[u*8 : u*8 + 8, v*8 : v*8 + 8] = cv.idct(Y[u*8 : u*8 + 8, v*8 : v*8 + 8])\n",
    "    \n",
    "    return img_rec"
   ]
  },
  {
   "attachments": {},
   "cell_type": "markdown",
   "metadata": {},
   "source": [
    "# Execution and Test"
   ]
  },
  {
   "attachments": {},
   "cell_type": "markdown",
   "metadata": {},
   "source": [
    "## Load Image"
   ]
  },
  {
   "cell_type": "code",
   "execution_count": null,
   "metadata": {},
   "outputs": [],
   "source": [
    "img = cv.imread('imgs/listrada.png', cv.IMREAD_GRAYSCALE)\n",
    "\n",
    "plt.imshow(img, cmap='gray')"
   ]
  },
  {
   "attachments": {},
   "cell_type": "markdown",
   "metadata": {},
   "source": [
    "## Compress\n"
   ]
  },
  {
   "attachments": {},
   "cell_type": "markdown",
   "metadata": {},
   "source": [
    "### DCT"
   ]
  },
  {
   "cell_type": "code",
   "execution_count": null,
   "metadata": {},
   "outputs": [],
   "source": [
    "imf = np.float32(img) - 128\n",
    "Y = DCT(imf)"
   ]
  },
  {
   "cell_type": "code",
   "execution_count": null,
   "metadata": {},
   "outputs": [],
   "source": [
    "plt.imshow((Y), cmap='gray')\n",
    "(np.unique(Y).size, np.unique(img).size)"
   ]
  },
  {
   "attachments": {},
   "cell_type": "markdown",
   "metadata": {},
   "source": [
    "### Quantizando"
   ]
  },
  {
   "cell_type": "code",
   "execution_count": null,
   "metadata": {},
   "outputs": [],
   "source": [
    "Y_quant = quant_DCT(Y)\n",
    "# Y_quant = np.round(quant_DCT(Y))\n",
    "Y_quant = np.trunc(quant_DCT(Y))\n",
    "# plt.hist(Y_quant)\n",
    "x = 0"
   ]
  },
  {
   "cell_type": "code",
   "execution_count": null,
   "metadata": {},
   "outputs": [],
   "source": [
    "\n",
    "nums = np.unique(Y_quant)\n",
    "print(f'Imagem Original: {np.unique(img).size}    |     Imagem Tranformada Quantizada: {np.unique(Y_quant).size}')\n",
    "print(f'Numero de Zeros na Imagem {(Y_quant == 0).sum()},  Numero de Pixels da Imagem {img.size}')"
   ]
  },
  {
   "attachments": {},
   "cell_type": "markdown",
   "metadata": {},
   "source": [
    "### Huffman"
   ]
  },
  {
   "cell_type": "code",
   "execution_count": null,
   "metadata": {},
   "outputs": [],
   "source": [
    "'''\n",
    "Func: weight_grey_tons\n",
    "Description:\n",
    "    Get the number of occurrence of each color\n",
    "Input: quantizated transformed image (Future: Error quantizated transformed image)\n",
    "Output: table with the occurrence of each color\n",
    "    [0     4] -> color 0 -> 4 times\n",
    "    [1     1] -> color 1 -> 1 time\n",
    "    [2     5]\n",
    "    [3     6]\n",
    "'''\n",
    "\n",
    "def weight_grey_tons(img):\n",
    "    # depth = 8\n",
    "    # nLine, nCols = img.shape\n",
    "    # hist = np.zeros((2**8))\n",
    "    \n",
    "    #get unique values and counts of each value\n",
    "    unique, counts = np.unique(img.flatten(), return_counts=True)\n",
    "\n",
    "    #display unique values and counts side by side\n",
    "    occurrence = np.asarray((unique, counts)).T\n",
    "\n",
    "    return occurrence\n",
    "\n",
    "'''\n",
    "Func: huffman_tree\n",
    "Description:\n",
    "    Create the the tree representation for the Huff Algorithm\n",
    "Input: Color occurency \n",
    "    Accept Format\n",
    "    [0     4] -> color 0 -> 4 times\n",
    "    [1     1] -> color 1 -> 1 time\n",
    "    [2     5]\n",
    "    [3     6]\n",
    "\n",
    "Output: Tree\n",
    "\n",
    "To-do\n",
    "    Priority_queue\n",
    "    Tree\n",
    "'''\n",
    "\n",
    "def huffman_tree(ocurrence):\n",
    "\n",
    "    nLine, _ = ocurrence.shape\n",
    "    \n",
    "    class Tree:\n",
    "        def __init__(self, data):\n",
    "            self.left = None\n",
    "            self.right = None\n",
    "            self.data = data\n",
    "\n",
    "    forest = []\n",
    "\n",
    "    # Populate the list\n",
    "    for i in range (nLine):\n",
    "        color, times =  ocurrence[i]\n",
    "        tree = BinaryTree(color)\n",
    "        forest.append((times, color, tree)) # Why a tuple? Is easier to use a tuple than define a __lt__ to compare the objects\n",
    "\n",
    "    # Create a priority list\n",
    "    heapq.heapify(forest)\n",
    "\n",
    "    # Variable to Simulate a Stable Sort\n",
    "    # And to sort first the leaf with data -> (data is a value of the gray scale)\n",
    "    count = 300\n",
    "    while(len(forest) > 1):\n",
    "        f_times, f_color, f_tree = heapq.heappop(forest)\n",
    "        s_times, s_color, s_tree = heapq.heappop(forest)\n",
    "\n",
    "        new_tree = BinaryTree(None)\n",
    "        new_tree.left = f_tree\n",
    "        new_tree.right = s_tree\n",
    "        heapq.heappush(forest, (f_times + s_times, count, new_tree))\n",
    "        count += 1\n",
    "    \n",
    "\n",
    "    _, _, h_tree = heapq.heappop(forest)\n",
    "    \n",
    "    def printPostorder(node):\n",
    " \n",
    "        if node:\n",
    "    \n",
    "            # First recur on left child\n",
    "            printPostorder(node.left)\n",
    "    \n",
    "            # the recur on right child\n",
    "            printPostorder(node.right)\n",
    "    \n",
    "            # now print the data of node\n",
    "            if node.data != None:\n",
    "                print(f'1c\"{node.data}\"')\n",
    "            else:\n",
    "                print(0, end=\"\")\n",
    "    \n",
    "\n",
    "    printPostorder(h_tree)\n",
    "    # Mark the end of the tree\n",
    "    print(0)\n",
    "    return h_tree\n",
    "\n",
    "    \n",
    "    \n"
   ]
  },
  {
   "cell_type": "code",
   "execution_count": null,
   "metadata": {},
   "outputs": [],
   "source": [
    "class BinaryTree:\n",
    "    def __init__(self, data):\n",
    "        self.data = data\n",
    "        self.right = None\n",
    "        self.left = None\n",
    "    def insert(self, data):\n",
    "        if self.data == data:\n",
    "            return\n",
    "        elif self.data < data:\n",
    "            if self.right is None:\n",
    "                self.right = BinaryTree(data)\n",
    "            else:\n",
    "                self.right.insert(data)\n",
    "        else: # self.data > data\n",
    "            if self.left is None:\n",
    "                self.left = BinaryTree(data)\n",
    "            else:\n",
    "                self.left.insert(data)\n",
    "    def display(self):\n",
    "        lines, *_ = self._display_aux()\n",
    "        for line in lines:\n",
    "            print(line)\n",
    "    def _display_aux(self):\n",
    "        \"\"\"Returns list of strings, width, height, and horizontal coordinate of the root.\"\"\"\n",
    "        # No child.\n",
    "        if self.right is None and self.left is None:\n",
    "            line = '%s' % self.data\n",
    "            width = len(line)\n",
    "            height = 1\n",
    "            middle = width // 2\n",
    "            return [line], width, height, middle\n",
    "        # Only left child.\n",
    "        if self.right is None:\n",
    "            lines, n, p, x = self.left._display_aux()\n",
    "            s = '%s' % self.data\n",
    "            u = len(s)\n",
    "            first_line = (x + 1) * ' ' + (n - x - 1) * '_' + s\n",
    "            second_line = x * ' ' + '/' + (n - x - 1 + u) * ' '\n",
    "            shifted_lines = [line + u * ' ' for line in lines]\n",
    "            return [first_line, second_line] + shifted_lines, n + u, p + 2, n + u // 2\n",
    "        # Only right child.\n",
    "        if self.left is None:\n",
    "            lines, n, p, x = self.right._display_aux()\n",
    "            s = '%s' % self.data\n",
    "            u = len(s)\n",
    "            first_line = s + x * '_' + (n - x) * ' '\n",
    "            second_line = (u + x) * ' ' + '\\\\' + (n - x - 1) * ' '\n",
    "            shifted_lines = [u * ' ' + line for line in lines]\n",
    "            return [first_line, second_line] + shifted_lines, n + u, p + 2, u // 2\n",
    "        # Two children.\n",
    "        left, n, p, x = self.left._display_aux()\n",
    "        right, m, q, y = self.right._display_aux()\n",
    "        s = '%s' % self.data\n",
    "        u = len(s)\n",
    "        first_line = (x + 1) * ' ' + (n - x - 1) * '_' + s + y * '_' + (m - y) * ' '\n",
    "        second_line = x * ' ' + '/' + (n - x - 1 + u + y) * ' ' + '\\\\' + (m - y - 1) * ' '\n",
    "        if p < q:\n",
    "            left += [n * ' '] * (q - p)\n",
    "        elif q < p:\n",
    "            right += [m * ' '] * (p - q)\n",
    "        zipped_lines = zip(left, right)\n",
    "        lines = [first_line, second_line] + [a + u * ' ' + b for a, b in zipped_lines]\n",
    "        return lines, n + m + u, max(p, q) + 2, n + u // 2"
   ]
  },
  {
   "attachments": {},
   "cell_type": "markdown",
   "metadata": {},
   "source": [
    "#### Teste"
   ]
  },
  {
   "cell_type": "code",
   "execution_count": null,
   "metadata": {},
   "outputs": [],
   "source": [
    "#get unique values and counts of each value\n",
    "unique, counts = np.unique(img, return_counts=True)\n",
    "\n",
    "#display unique values and counts side by side\n",
    "print(np.asarray((unique, counts)).T)"
   ]
  },
  {
   "cell_type": "code",
   "execution_count": null,
   "metadata": {},
   "outputs": [],
   "source": [
    "output = weight_grey_tons(img)\n",
    "huffman_tree(output).display()"
   ]
  },
  {
   "cell_type": "code",
   "execution_count": null,
   "metadata": {},
   "outputs": [],
   "source": [
    "plt.hist(img, density=True)\n",
    "x = 0"
   ]
  },
  {
   "attachments": {},
   "cell_type": "markdown",
   "metadata": {},
   "source": [
    "## Unconpress"
   ]
  },
  {
   "attachments": {},
   "cell_type": "markdown",
   "metadata": {},
   "source": [
    "### Huffman"
   ]
  },
  {
   "cell_type": "code",
   "execution_count": null,
   "metadata": {},
   "outputs": [],
   "source": [
    "   "
   ]
  },
  {
   "attachments": {},
   "cell_type": "markdown",
   "metadata": {},
   "source": [
    "### Dequantizando"
   ]
  },
  {
   "cell_type": "code",
   "execution_count": null,
   "metadata": {},
   "outputs": [],
   "source": [
    "Y_dequant = dequant_DCT(Y_quant)\n",
    "np.unique(Y_dequant).max()"
   ]
  },
  {
   "attachments": {},
   "cell_type": "markdown",
   "metadata": {},
   "source": [
    "### Transformada inversa"
   ]
  },
  {
   "cell_type": "code",
   "execution_count": null,
   "metadata": {},
   "outputs": [],
   "source": [
    "img_rec = iDCT(Y_dequant)\n",
    "img_rec += 128\n",
    "\n",
    "# Corrige os pixies que estouraram\n",
    "filtro = img_rec > 255\n",
    "img_rec[filtro] = 255\n",
    "\n",
    "filtro = img_rec < 0\n",
    "img_rec[filtro] = 0\n",
    "# img_rec *= rate\n",
    "img_rec = np.round(img_rec)"
   ]
  },
  {
   "cell_type": "code",
   "execution_count": null,
   "metadata": {},
   "outputs": [],
   "source": [
    "plt.imshow((img_rec), cmap='gray')"
   ]
  },
  {
   "cell_type": "code",
   "execution_count": null,
   "metadata": {},
   "outputs": [],
   "source": [
    "plt.imshow((img), cmap='gray')"
   ]
  },
  {
   "attachments": {},
   "cell_type": "markdown",
   "metadata": {},
   "source": [
    "# Análises\n"
   ]
  },
  {
   "cell_type": "code",
   "execution_count": null,
   "metadata": {},
   "outputs": [],
   "source": [
    "print(f'MSE: {((img - img_rec)**2).sum()/img.size}')\n",
    "print(f'ME: {np.abs(img - img_rec).max()}')"
   ]
  },
  {
   "cell_type": "code",
   "execution_count": null,
   "metadata": {},
   "outputs": [],
   "source": [
    "# histogramas de Y e Y_quant para, posteriormente, criar matriz de erros para huffman\n",
    "# observe o eixo-x, i.e. os erros serão mais próximos\n",
    "plt.hist(Y)\n",
    "plt.show()\n",
    "plt.hist(Y_quant)\n",
    "plt.show()"
   ]
  },
  {
   "cell_type": "code",
   "execution_count": null,
   "metadata": {},
   "outputs": [],
   "source": [
    "(np.unique(Y).size, np.unique(Y_quant).size)"
   ]
  }
 ],
 "metadata": {
  "kernelspec": {
   "display_name": "Python 3",
   "language": "python",
   "name": "python3"
  },
  "language_info": {
   "codemirror_mode": {
    "name": "ipython",
    "version": 3
   },
   "file_extension": ".py",
   "mimetype": "text/x-python",
   "name": "python",
   "nbconvert_exporter": "python",
   "pygments_lexer": "ipython3",
   "version": "3.7.6"
  },
  "orig_nbformat": 4,
  "vscode": {
   "interpreter": {
    "hash": "916dbcbb3f70747c44a77c7bcd40155683ae19c65e1c03b4aa3499c5328201f1"
   }
  }
 },
 "nbformat": 4,
 "nbformat_minor": 2
}
